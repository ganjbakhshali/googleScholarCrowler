{
  "cells": [
    {
      "cell_type": "code",
      "execution_count": 1,
      "metadata": {
        "colab": {
          "base_uri": "https://localhost:8080/"
        },
        "id": "QuG1hXdYze8W",
        "outputId": "15c51441-fdc7-4f87-def9-179a92f88c4f"
      },
      "outputs": [
        {
          "name": "stdout",
          "output_type": "stream",
          "text": [
            "Looking in indexes: https://pypi.org/simple, https://packagecloud.io/github/git-lfs/pypi/simple, https://pypi.ngc.nvidia.com\n",
            "\u001b[33mWARNING: Keyring is skipped due to an exception: Failed to create the collection: Prompt dismissed..\u001b[0m\n",
            "Collecting scholarly\n",
            "  Downloading scholarly-1.5.1-py3-none-any.whl (35 kB)\n",
            "Requirement already satisfied: typing-extensions in /home/ali/.local/lib/python3.8/site-packages (from scholarly) (3.7.4.3)\n",
            "Collecting free-proxy\n",
            "  Downloading free_proxy-1.0.4.tar.gz (4.0 kB)\n",
            "Requirement already satisfied: requests[socks] in /home/ali/anaconda3/lib/python3.8/site-packages (from scholarly) (2.25.1)\n",
            "Collecting arrow\n",
            "  Downloading arrow-1.2.1-py3-none-any.whl (63 kB)\n",
            "\u001b[K     |████████████████████████████████| 63 kB 18.4 MB/s eta 0:00:011\n",
            "\u001b[?25hRequirement already satisfied: selenium in /home/ali/anaconda3/lib/python3.8/site-packages (from scholarly) (4.0.0)\n",
            "Collecting bibtexparser\n",
            "  Downloading bibtexparser-1.2.0.tar.gz (46 kB)\n",
            "\u001b[K     |████████████████████████████████| 46 kB 131.0 MB/s eta 0:00:01\n",
            "\u001b[?25hCollecting fake-useragent\n",
            "  Downloading fake-useragent-0.1.11.tar.gz (13 kB)\n",
            "Requirement already satisfied: beautifulsoup4 in /home/ali/anaconda3/lib/python3.8/site-packages (from scholarly) (4.9.3)\n",
            "Requirement already satisfied: python-dotenv in /home/ali/.local/lib/python3.8/site-packages (from scholarly) (0.18.0)\n",
            "Collecting sphinx-rtd-theme\n",
            "  Downloading sphinx_rtd_theme-1.0.0-py2.py3-none-any.whl (2.8 MB)\n",
            "\u001b[K     |████████████████████████████████| 2.8 MB 17.2 MB/s eta 0:00:01\n",
            "\u001b[?25hRequirement already satisfied: PySocks in /home/ali/.local/lib/python3.8/site-packages (from scholarly) (1.7.1)\n",
            "Collecting deprecated\n",
            "  Downloading Deprecated-1.2.13-py2.py3-none-any.whl (9.6 kB)\n",
            "Requirement already satisfied: python-dateutil>=2.7.0 in /home/ali/anaconda3/lib/python3.8/site-packages (from arrow->scholarly) (2.8.1)\n",
            "Requirement already satisfied: six>=1.5 in /home/ali/anaconda3/lib/python3.8/site-packages (from python-dateutil>=2.7.0->arrow->scholarly) (1.15.0)\n",
            "Requirement already satisfied: soupsieve>1.2 in /home/ali/anaconda3/lib/python3.8/site-packages (from beautifulsoup4->scholarly) (2.2.1)\n",
            "Requirement already satisfied: pyparsing>=2.0.3 in /home/ali/.local/lib/python3.8/site-packages (from bibtexparser->scholarly) (2.4.7)\n",
            "Requirement already satisfied: future>=0.16.0 in /home/ali/.local/lib/python3.8/site-packages (from bibtexparser->scholarly) (0.18.2)\n",
            "Requirement already satisfied: wrapt<2,>=1.10 in /home/ali/.local/lib/python3.8/site-packages (from deprecated->scholarly) (1.12.1)\n",
            "Requirement already satisfied: lxml in /home/ali/anaconda3/lib/python3.8/site-packages (from free-proxy->scholarly) (4.6.3)\n",
            "Requirement already satisfied: certifi>=2017.4.17 in /home/ali/anaconda3/lib/python3.8/site-packages (from requests[socks]->scholarly) (2020.12.5)\n",
            "Requirement already satisfied: urllib3<1.27,>=1.21.1 in /home/ali/anaconda3/lib/python3.8/site-packages (from requests[socks]->scholarly) (1.26.4)\n",
            "Requirement already satisfied: idna<3,>=2.5 in /home/ali/anaconda3/lib/python3.8/site-packages (from requests[socks]->scholarly) (2.10)\n",
            "Requirement already satisfied: chardet<5,>=3.0.2 in /home/ali/anaconda3/lib/python3.8/site-packages (from requests[socks]->scholarly) (4.0.0)\n",
            "Requirement already satisfied: cryptography>=1.3.4 in /home/ali/anaconda3/lib/python3.8/site-packages (from requests[socks]->scholarly) (3.4.7)\n",
            "Requirement already satisfied: pyOpenSSL>=0.14 in /home/ali/anaconda3/lib/python3.8/site-packages (from requests[socks]->scholarly) (20.0.1)\n",
            "Requirement already satisfied: cffi>=1.12 in /home/ali/.local/lib/python3.8/site-packages (from cryptography>=1.3.4->requests[socks]->scholarly) (1.14.6)\n",
            "Requirement already satisfied: pycparser in /home/ali/.local/lib/python3.8/site-packages (from cffi>=1.12->cryptography>=1.3.4->requests[socks]->scholarly) (2.20)\n",
            "Requirement already satisfied: trio-websocket~=0.9 in /home/ali/anaconda3/lib/python3.8/site-packages (from selenium->scholarly) (0.9.2)\n",
            "Requirement already satisfied: trio~=0.17 in /home/ali/anaconda3/lib/python3.8/site-packages (from selenium->scholarly) (0.19.0)\n",
            "Requirement already satisfied: attrs>=19.2.0 in /home/ali/.local/lib/python3.8/site-packages (from trio~=0.17->selenium->scholarly) (21.2.0)\n",
            "Requirement already satisfied: sniffio in /home/ali/anaconda3/lib/python3.8/site-packages (from trio~=0.17->selenium->scholarly) (1.2.0)\n",
            "Requirement already satisfied: async-generator>=1.9 in /home/ali/.local/lib/python3.8/site-packages (from trio~=0.17->selenium->scholarly) (1.10)\n",
            "Requirement already satisfied: outcome in /home/ali/anaconda3/lib/python3.8/site-packages (from trio~=0.17->selenium->scholarly) (1.1.0)\n",
            "Requirement already satisfied: sortedcontainers in /home/ali/anaconda3/lib/python3.8/site-packages (from trio~=0.17->selenium->scholarly) (2.3.0)\n",
            "Requirement already satisfied: wsproto>=0.14 in /home/ali/anaconda3/lib/python3.8/site-packages (from trio-websocket~=0.9->selenium->scholarly) (1.0.0)\n",
            "Requirement already satisfied: h11<1,>=0.9.0 in /home/ali/.local/lib/python3.8/site-packages (from wsproto>=0.14->trio-websocket~=0.9->selenium->scholarly) (0.12.0)\n",
            "Requirement already satisfied: docutils<0.18 in /home/ali/anaconda3/lib/python3.8/site-packages (from sphinx-rtd-theme->scholarly) (0.17.1)\n",
            "Requirement already satisfied: sphinx>=1.6 in /home/ali/anaconda3/lib/python3.8/site-packages (from sphinx-rtd-theme->scholarly) (4.0.1)\n",
            "Requirement already satisfied: packaging in /home/ali/.local/lib/python3.8/site-packages (from sphinx>=1.6->sphinx-rtd-theme->scholarly) (20.9)\n",
            "Requirement already satisfied: setuptools in /home/ali/anaconda3/lib/python3.8/site-packages (from sphinx>=1.6->sphinx-rtd-theme->scholarly) (52.0.0.post20210125)\n",
            "Requirement already satisfied: Pygments>=2.0 in /home/ali/.local/lib/python3.8/site-packages (from sphinx>=1.6->sphinx-rtd-theme->scholarly) (2.9.0)\n",
            "Requirement already satisfied: babel>=1.3 in /home/ali/anaconda3/lib/python3.8/site-packages (from sphinx>=1.6->sphinx-rtd-theme->scholarly) (2.9.0)\n",
            "Requirement already satisfied: sphinxcontrib-qthelp in /home/ali/anaconda3/lib/python3.8/site-packages (from sphinx>=1.6->sphinx-rtd-theme->scholarly) (1.0.3)\n",
            "Requirement already satisfied: sphinxcontrib-htmlhelp in /home/ali/anaconda3/lib/python3.8/site-packages (from sphinx>=1.6->sphinx-rtd-theme->scholarly) (1.0.3)\n",
            "Requirement already satisfied: sphinxcontrib-jsmath in /home/ali/anaconda3/lib/python3.8/site-packages (from sphinx>=1.6->sphinx-rtd-theme->scholarly) (1.0.1)\n",
            "Requirement already satisfied: imagesize in /home/ali/anaconda3/lib/python3.8/site-packages (from sphinx>=1.6->sphinx-rtd-theme->scholarly) (1.2.0)\n",
            "Requirement already satisfied: sphinxcontrib-applehelp in /home/ali/anaconda3/lib/python3.8/site-packages (from sphinx>=1.6->sphinx-rtd-theme->scholarly) (1.0.2)\n",
            "Requirement already satisfied: sphinxcontrib-serializinghtml in /home/ali/anaconda3/lib/python3.8/site-packages (from sphinx>=1.6->sphinx-rtd-theme->scholarly) (1.1.4)\n",
            "Requirement already satisfied: alabaster<0.8,>=0.7 in /home/ali/anaconda3/lib/python3.8/site-packages (from sphinx>=1.6->sphinx-rtd-theme->scholarly) (0.7.12)\n",
            "Collecting MarkupSafe<2.0\n",
            "  Downloading MarkupSafe-1.1.1-cp38-cp38-manylinux2010_x86_64.whl (32 kB)\n",
            "Requirement already satisfied: Jinja2<3.0,>=2.3 in /home/ali/.local/lib/python3.8/site-packages (from sphinx>=1.6->sphinx-rtd-theme->scholarly) (2.11.3)\n",
            "Requirement already satisfied: snowballstemmer>=1.1 in /home/ali/anaconda3/lib/python3.8/site-packages (from sphinx>=1.6->sphinx-rtd-theme->scholarly) (2.1.0)\n",
            "Requirement already satisfied: sphinxcontrib-devhelp in /home/ali/anaconda3/lib/python3.8/site-packages (from sphinx>=1.6->sphinx-rtd-theme->scholarly) (1.0.2)\n",
            "Requirement already satisfied: pytz>=2015.7 in /home/ali/anaconda3/lib/python3.8/site-packages (from babel>=1.3->sphinx>=1.6->sphinx-rtd-theme->scholarly) (2021.1)\n",
            "Building wheels for collected packages: bibtexparser, fake-useragent, free-proxy\n",
            "  Building wheel for bibtexparser (setup.py) ... \u001b[?25ldone\n",
            "\u001b[?25h  Created wheel for bibtexparser: filename=bibtexparser-1.2.0-py3-none-any.whl size=36712 sha256=50b6f03788ea11a5307e737a378c4d285ec8e7d5c98b8dd43144a82b7044d22a\n",
            "  Stored in directory: /tmp/pip-ephem-wheel-cache-fhzhbos8/wheels/9a/bf/37/abf100a7ad8c8bb49b300653a358ee67f195dfc471a1b56e4c\n",
            "  Building wheel for fake-useragent (setup.py) ... \u001b[?25ldone\n",
            "\u001b[?25h  Created wheel for fake-useragent: filename=fake_useragent-0.1.11-py3-none-any.whl size=13486 sha256=71fafbe9dfa777bc75a5e7039ffc9a324ed0e3441eff304f4b01e44de0ca0395\n",
            "  Stored in directory: /tmp/pip-ephem-wheel-cache-fhzhbos8/wheels/a0/b8/b7/8c942b2c5be5158b874a88195116b05ad124bac795f6665e65\n",
            "  Building wheel for free-proxy (setup.py) ... \u001b[?25ldone\n",
            "\u001b[?25h  Created wheel for free-proxy: filename=free_proxy-1.0.4-py3-none-any.whl size=4270 sha256=e5fef71e89f6176918e628b3ffbe3199cf43d1ffbf029291550b6dd4f5ee4048\n",
            "  Stored in directory: /tmp/pip-ephem-wheel-cache-fhzhbos8/wheels/15/0e/ef/68fa3cf3ca9ec75081b278773fc380f0751eb3a400aaf1fcd5\n",
            "Successfully built bibtexparser fake-useragent free-proxy\n",
            "Installing collected packages: MarkupSafe, sphinx-rtd-theme, free-proxy, fake-useragent, deprecated, bibtexparser, arrow, scholarly\n",
            "  Attempting uninstall: MarkupSafe\n",
            "    Found existing installation: MarkupSafe 2.0.1\n",
            "    Uninstalling MarkupSafe-2.0.1:\n",
            "      Successfully uninstalled MarkupSafe-2.0.1\n",
            "\u001b[31mERROR: pip's dependency resolver does not currently take into account all the packages that are installed. This behaviour is the source of the following dependency conflicts.\n",
            "anaconda-project 0.9.1 requires ruamel-yaml, which is not installed.\n",
            "flask 2.0.1 requires itsdangerous>=2.0, but you have itsdangerous 1.1.0 which is incompatible.\n",
            "flask 2.0.1 requires Jinja2>=3.0, but you have jinja2 2.11.3 which is incompatible.\n",
            "alembic 1.6.5 requires SQLAlchemy>=1.3.0, but you have sqlalchemy 1.2.19 which is incompatible.\u001b[0m\n",
            "Successfully installed MarkupSafe-1.1.1 arrow-1.2.1 bibtexparser-1.2.0 deprecated-1.2.13 fake-useragent-0.1.11 free-proxy-1.0.4 scholarly-1.5.1 sphinx-rtd-theme-1.0.0\n"
          ]
        }
      ],
      "source": [
        "!pip install scholarly "
      ]
    },
    {
      "cell_type": "code",
      "execution_count": 2,
      "metadata": {
        "colab": {
          "base_uri": "https://localhost:8080/"
        },
        "id": "Vf67QZ29zyy1",
        "outputId": "439a2821-8ba1-4b1b-f780-ddf1d8fd7060"
      },
      "outputs": [
        {
          "name": "stdout",
          "output_type": "stream",
          "text": [
            "{'container_type': 'Author', 'filled': [], 'source': <AuthorSource.SEARCH_AUTHOR_SNIPPETS: 'SEARCH_AUTHOR_SNIPPETS'>, 'scholar_id': '4bahYMkAAAAJ', 'url_picture': 'https://scholar.google.com/citations?view_op=medium_photo&user=4bahYMkAAAAJ', 'name': 'Steven A. Cholewiak, PhD', 'affiliation': 'Vision Scientist at Google LLC', 'email_domain': '@google.com', 'interests': ['Depth Cues', '3D Shape', 'Shape from Texture & Shading', 'Naive Physics', 'Haptics'], 'citedby': 391}\n"
          ]
        }
      ],
      "source": [
        "from scholarly import scholarly\n",
        "\n",
        "print(next(scholarly.search_author('Steven A. Cholewiak')))"
      ]
    },
    {
      "cell_type": "code",
      "execution_count": 3,
      "metadata": {
        "colab": {
          "base_uri": "https://localhost:8080/"
        },
        "id": "otkpOVfSzk3f",
        "outputId": "2a3e0aaf-8a94-4ed1-d368-a910f8a6d510"
      },
      "outputs": [
        {
          "data": {
            "text/plain": [
              "[{'Organization': 'Princeton University', 'id': '4836318610601440500'}]"
            ]
          },
          "execution_count": 3,
          "metadata": {},
          "output_type": "execute_result"
        }
      ],
      "source": [
        "scholarly.search_org('Princeton University')\n",
        "\n",
        "\n"
      ]
    },
    {
      "cell_type": "code",
      "execution_count": 4,
      "metadata": {
        "colab": {
          "base_uri": "https://localhost:8080/"
        },
        "id": "rsR14W7SzbUF",
        "outputId": "f92ecf86-d001-4753-e84a-7713c88eb954"
      },
      "outputs": [
        {
          "name": "stdout",
          "output_type": "stream",
          "text": [
            "{'affiliation': 'Princeton University (Emeritus)',\n",
            " 'citedby': 444995,\n",
            " 'email_domain': '@princeton.edu',\n",
            " 'filled': False,\n",
            " 'interests': ['Daniel Kahneman'],\n",
            " 'name': 'Daniel Kahneman',\n",
            " 'scholar_id': 'ImhakoAAAAAJ',\n",
            " 'source': 'SEARCH_AUTHOR_SNIPPETS',\n",
            " 'url_picture': 'https://scholar.google.com/citations?view_op=medium_photo&user=ImhakoAAAAAJ'}\n"
          ]
        }
      ],
      "source": [
        "search_query = scholarly.search_author_by_organization(4836318610601440500)\n",
        "author = next(search_query)\n",
        "scholarly.pprint(author)"
      ]
    },
    {
      "cell_type": "code",
      "execution_count": 5,
      "metadata": {
        "colab": {
          "base_uri": "https://localhost:8080/"
        },
        "id": "A6fouKJ_z7mI",
        "outputId": "fcb2f275-9993-4094-a29b-f4704128bae6"
      },
      "outputs": [
        {
          "name": "stdout",
          "output_type": "stream",
          "text": [
            "20\n",
            "40\n",
            "60\n",
            "80\n",
            "100\n"
          ]
        },
        {
          "name": "stderr",
          "output_type": "stream",
          "text": [
            "/home/ali/anaconda3/lib/python3.8/site-packages/pandas/core/internals/blocks.py:993: VisibleDeprecationWarning: Creating an ndarray from ragged nested sequences (which is a list-or-tuple of lists-or-tuples-or ndarrays with different lengths or shapes) is deprecated. If you meant to do this, you must specify 'dtype=object' when creating the ndarray.\n",
            "  arr_value = np.array(value)\n"
          ]
        }
      ],
      "source": [
        "#Q1\n",
        "from scholarly import scholarly\n",
        "import pandas as pd\n",
        "import numpy as np\n",
        "def ScholarSearchField(fieldofinterest='probabilistic_models', citationthreshold=2500):\n",
        "    search_query = scholarly.search_keyword(fieldofinterest)\n",
        "    fields = np.array([])\n",
        "    professors = {}\n",
        "    KeywordsOfInterest = ['scholar_id', 'url_picture', 'affiliation', 'email_domain', 'interests', 'citedby']\n",
        "    counter = 0\n",
        "    while True:\n",
        "        counter += 1\n",
        "        try:\n",
        "            a = next(search_query)\n",
        "        except:\n",
        "            break\n",
        "        if counter%20 == 0:\n",
        "            print(counter)\n",
        "        professors[a['name']] = [a[key] for key in KeywordsOfInterest if key in a.keys()]\n",
        "        field = np.array([s.lower() for s in a['interests']])\n",
        "        fields = np.hstack([fields, field])\n",
        "\n",
        "    df = pd.DataFrame(index=professors.keys(), columns=KeywordsOfInterest)\n",
        "    for key in df.index:\n",
        "        try:\n",
        "             df.loc[key, :] = professors[key]\n",
        "        except:\n",
        "            df = df.drop(index=key)\n",
        "            pass\n",
        "    fields = set(fields)\n",
        "    return df, fields\n",
        "\n",
        "\n",
        "[profs, fields] = ScholarSearchField(fieldofinterest='probabilistic_models')\n",
        "pd.set_option('display.max_colwidth', 100)\n",
        "profs.head(-1)\n",
        "profs.to_csv('tractography.csv')\n",
        "\n"
      ]
    },
    {
      "cell_type": "code",
      "execution_count": 6,
      "metadata": {
        "colab": {
          "base_uri": "https://localhost:8080/",
          "height": 35
        },
        "id": "owR0oFeqqSCt",
        "outputId": "0f01dde7-ab42-4c8f-b9a6-b6f6ea84dd26"
      },
      "outputs": [
        {
          "data": {
            "text/plain": [
              "'j67B9Q4AAAAJ'"
            ]
          },
          "execution_count": 6,
          "metadata": {},
          "output_type": "execute_result"
        }
      ],
      "source": [
        "profs['scholar_id'][1]\n"
      ]
    },
    {
      "cell_type": "code",
      "execution_count": 7,
      "metadata": {
        "colab": {
          "base_uri": "https://localhost:8080/"
        },
        "id": "Avu_Ugd94lk7",
        "outputId": "ee2727cb-d6ea-46de-8d14-07abbdf27abd"
      },
      "outputs": [
        {
          "name": "stderr",
          "output_type": "stream",
          "text": [
            "__enter__\n",
            "Fetching only the top 20 coauthors\n"
          ]
        },
        {
          "name": "stdout",
          "output_type": "stream",
          "text": [
            "{'container_type': 'Author', 'filled': ['basics', 'indices', 'counts', 'coauthors', 'publications', 'public_access'], 'source': <AuthorSource.SEARCH_AUTHOR_SNIPPETS: 'SEARCH_AUTHOR_SNIPPETS'>, 'scholar_id': '3Y_Nwm0AAAAJ', 'url_picture': 'https://scholar.google.com/citations?view_op=medium_photo&user=3Y_Nwm0AAAAJ', 'name': 'Ahad Harati', 'affiliation': 'Ferdowsi University of Mashhad', 'email_domain': '@um.ac.ir', 'interests': ['Probabilistic Models', 'Robot Perception', 'Reinforcement Learning'], 'citedby': 1168, 'organization': 12493016978831566375, 'citedby5y': 603, 'hindex': 16, 'hindex5y': 11, 'i10index': 20, 'i10index5y': 12, 'cites_per_year': {2004: 5, 2005: 2, 2006: 5, 2007: 18, 2008: 43, 2009: 47, 2010: 62, 2011: 65, 2012: 74, 2013: 71, 2014: 72, 2015: 87, 2016: 89, 2017: 76, 2018: 99, 2019: 110, 2020: 119, 2021: 106}, 'coauthors': [{'container_type': 'Author', 'filled': [], 'scholar_id': 'MDIyLnwAAAAJ', 'source': <AuthorSource.CO_AUTHORS_LIST: 'CO_AUTHORS_LIST'>, 'name': 'Roland Siegwart', 'affiliation': 'Professor of Robotics, ETH Zurich, Switzerland'}, {'container_type': 'Author', 'filled': [], 'scholar_id': 'QlwWxmoAAAAJ', 'source': <AuthorSource.CO_AUTHORS_LIST: 'CO_AUTHORS_LIST'>, 'name': 'Majid Nili Ahmadabadi', 'affiliation': 'Professor of ECE, University of Tehran'}, {'container_type': 'Author', 'filled': [], 'scholar_id': 'ACoPs-IAAAAJ', 'source': <AuthorSource.CO_AUTHORS_LIST: 'CO_AUTHORS_LIST'>, 'name': 'Hamidreza Pourreza', 'affiliation': 'Ferdowsi University of Mashhad'}, {'container_type': 'Author', 'filled': [], 'scholar_id': 'SC9wV2kAAAAJ', 'source': <AuthorSource.CO_AUTHORS_LIST: 'CO_AUTHORS_LIST'>, 'name': 'Davide Scaramuzza', 'affiliation': 'Professor of Robotics and Perception, University of Zurich'}, {'container_type': 'Author', 'filled': [], 'scholar_id': 'qN0jFWwAAAAJ', 'source': <AuthorSource.CO_AUTHORS_LIST: 'CO_AUTHORS_LIST'>, 'name': 'Ehsan Toreini', 'affiliation': 'Department of Computer Science, Durham University'}, {'container_type': 'Author', 'filled': [], 'scholar_id': 'LPqJnMMAAAAJ', 'source': <AuthorSource.CO_AUTHORS_LIST: 'CO_AUTHORS_LIST'>, 'name': 'Maryam Mehrnezhad', 'affiliation': 'School of Computing, Newcastle University, UK'}, {'container_type': 'Author', 'filled': [], 'scholar_id': '5h2qWE8AAAAJ', 'source': <AuthorSource.CO_AUTHORS_LIST: 'CO_AUTHORS_LIST'>, 'name': 'Malihe Javidi', 'affiliation': 'Assistant Professor of Department of Computer Engineering, Quchan University of Technology'}, {'container_type': 'Author', 'filled': [], 'scholar_id': 'PsoPyovDYjYC', 'source': <AuthorSource.CO_AUTHORS_LIST: 'CO_AUTHORS_LIST'>, 'name': 'Amir Hossein Taherinia', 'affiliation': 'Associate Professor, Ferdowsi University of Mashhad'}, {'container_type': 'Author', 'filled': [], 'scholar_id': 'qvvUFLsAAAAJ', 'source': <AuthorSource.CO_AUTHORS_LIST: 'CO_AUTHORS_LIST'>, 'name': 'Shrihari Vasudevan', 'affiliation': 'Ericsson'}, {'container_type': 'Author', 'filled': [], 'scholar_id': '2h8WZlYAAAAJ', 'source': <AuthorSource.CO_AUTHORS_LIST: 'CO_AUTHORS_LIST'>, 'name': 'Agostino Martinelli', 'affiliation': ''}, {'container_type': 'Author', 'filled': [], 'scholar_id': 'Z3XAKb0AAAAJ', 'source': <AuthorSource.CO_AUTHORS_LIST: 'CO_AUTHORS_LIST'>, 'name': 'Hadi Sadoghi Yazdi', 'affiliation': 'Professor in Electrical  and Computer Eng. Department of Computer Engineering, Ferdowsi University'}, {'container_type': 'Author', 'filled': [], 'scholar_id': '9VpO6C0AAAAJ', 'source': <AuthorSource.CO_AUTHORS_LIST: 'CO_AUTHORS_LIST'>, 'name': 'Mahdi Alehdaghi', 'affiliation': 'École de technologie supérieure'}, {'container_type': 'Author', 'filled': [], 'scholar_id': 'Ep5DRCgAAAAJ', 'source': <AuthorSource.CO_AUTHORS_LIST: 'CO_AUTHORS_LIST'>, 'name': 'Behrouz Bolourian Haghighi', 'affiliation': 'Lecturer, Ph.D. Candidate in AI, Ferdowsi University of Mashhad'}, {'container_type': 'Author', 'filled': [], 'scholar_id': 'IEThLbIAAAAJ', 'source': <AuthorSource.CO_AUTHORS_LIST: 'CO_AUTHORS_LIST'>, 'name': 'Mohammad Shokri', 'affiliation': 'Ferdowsi University of Mashhad'}, {'container_type': 'Author', 'filled': [], 'scholar_id': 'FGPexDEAAAAJ', 'source': <AuthorSource.CO_AUTHORS_LIST: 'CO_AUTHORS_LIST'>, 'name': 'Taha Hamedani', 'affiliation': 'Ferdowsi University of Mashhad'}, {'container_type': 'Author', 'filled': [], 'scholar_id': 'U6AIrqwAAAAJ', 'source': <AuthorSource.CO_AUTHORS_LIST: 'CO_AUTHORS_LIST'>, 'name': 'Alireza Abbasi', 'affiliation': 'University of New South Wales (UNSW)'}, {'container_type': 'Author', 'filled': [], 'scholar_id': 'z4vKfiAAAAAJ', 'source': <AuthorSource.CO_AUTHORS_LIST: 'CO_AUTHORS_LIST'>, 'name': 'Sayed Kamaledin Ghiasi-Shirazi', 'affiliation': 'Assistant Professor of Computer Engineering, Ferdowsi University of Mashhad'}, {'container_type': 'Author', 'filled': [], 'scholar_id': '05xpTOsAAAAJ', 'source': <AuthorSource.CO_AUTHORS_LIST: 'CO_AUTHORS_LIST'>, 'name': 'Alireza Naeimi Sadigh', 'affiliation': 'Semnan University'}, {'container_type': 'Author', 'filled': [], 'scholar_id': 'Y7pVVy4AAAAJ', 'source': <AuthorSource.CO_AUTHORS_LIST: 'CO_AUTHORS_LIST'>, 'name': 'Mahdi Abolfazli Esfahani', 'affiliation': 'MIT CSAIL - Venti Technologies'}, {'container_type': 'Author', 'filled': [], 'scholar_id': 'j_mCCb0AAAAJ', 'source': <AuthorSource.CO_AUTHORS_LIST: 'CO_AUTHORS_LIST'>, 'name': 'Vida Adeli', 'affiliation': 'University of Toronto'}], 'publications': [{'container_type': 'Publication', 'source': <PublicationSource.AUTHOR_PUBLICATION_ENTRY: 'AUTHOR_PUBLICATION_ENTRY'>, 'bib': {'title': 'Extrinsic self calibration of a camera and a 3d laser range finder from natural scenes', 'pub_year': '2007'}, 'filled': False, 'author_pub_id': '3Y_Nwm0AAAAJ:u5HHmVD_uO8C', 'num_citations': 341, 'citedby_url': 'https://scholar.google.com/scholar?oi=bibs&hl=en&cites=13794208424952607640', 'cites_id': ['13794208424952607640']}, {'container_type': 'Publication', 'source': <PublicationSource.AUTHOR_PUBLICATION_ENTRY: 'AUTHOR_PUBLICATION_ENTRY'>, 'bib': {'title': 'Kinematics modeling of a wheel-based pole climbing robot (ut-pcr)', 'pub_year': '2005'}, 'filled': False, 'author_pub_id': '3Y_Nwm0AAAAJ:0EnyYjriUFMC', 'num_citations': 127, 'citedby_url': 'https://scholar.google.com/scholar?oi=bibs&hl=en&cites=15877523006189235254', 'cites_id': ['15877523006189235254']}, {'container_type': 'Publication', 'source': <PublicationSource.AUTHOR_PUBLICATION_ENTRY: 'AUTHOR_PUBLICATION_ENTRY'>, 'bib': {'title': 'Orthogonal SLAM: a step toward lightweight indoor autonomous navigation', 'pub_year': '2006'}, 'filled': False, 'author_pub_id': '3Y_Nwm0AAAAJ:u-x6o8ySG0sC', 'num_citations': 97, 'citedby_url': 'https://scholar.google.com/scholar?oi=bibs&hl=en&cites=3043688105574659724', 'cites_id': ['3043688105574659724']}, {'container_type': 'Publication', 'source': <PublicationSource.AUTHOR_PUBLICATION_ENTRY: 'AUTHOR_PUBLICATION_ENTRY'>, 'bib': {'title': 'Vessel segmentation and microaneurysm detection using discriminative dictionary learning and sparse representation', 'pub_year': '2017'}, 'filled': False, 'author_pub_id': '3Y_Nwm0AAAAJ:j3f4tGmQtD8C', 'num_citations': 71, 'citedby_url': 'https://scholar.google.com/scholar?oi=bibs&hl=en&cites=10073724589162127033', 'cites_id': ['10073724589162127033']}, {'container_type': 'Publication', 'source': <PublicationSource.AUTHOR_PUBLICATION_ENTRY: 'AUTHOR_PUBLICATION_ENTRY'>, 'bib': {'title': 'A lightweight SLAM algorithm using orthogonal planes for indoor mobile robotics', 'pub_year': '2007'}, 'filled': False, 'author_pub_id': '3Y_Nwm0AAAAJ:9yKSN-GCB0IC', 'num_citations': 59, 'citedby_url': 'https://scholar.google.com/scholar?oi=bibs&hl=en&cites=2806797633812351646', 'cites_id': ['2806797633812351646'], 'public_access': True}, {'container_type': 'Publication', 'source': <PublicationSource.AUTHOR_PUBLICATION_ENTRY: 'AUTHOR_PUBLICATION_ENTRY'>, 'bib': {'title': 'A collective and abridged lexical query for delineation of nanotechnology publications', 'pub_year': '2011'}, 'filled': False, 'author_pub_id': '3Y_Nwm0AAAAJ:qjMakFHDy7sC', 'num_citations': 51, 'citedby_url': 'https://scholar.google.com/scholar?oi=bibs&hl=en&cites=13266282410455597534', 'cites_id': ['13266282410455597534']}, {'container_type': 'Publication', 'source': <PublicationSource.AUTHOR_PUBLICATION_ENTRY: 'AUTHOR_PUBLICATION_ENTRY'>, 'bib': {'title': 'Fast range image segmentation for indoor 3D-SLAM', 'pub_year': '2007'}, 'filled': False, 'author_pub_id': '3Y_Nwm0AAAAJ:d1gkVwhDpl0C', 'num_citations': 39, 'citedby_url': 'https://scholar.google.com/scholar?oi=bibs&hl=en&cites=3009930171229670920', 'cites_id': ['3009930171229670920']}, {'container_type': 'Publication', 'source': <PublicationSource.AUTHOR_PUBLICATION_ENTRY: 'AUTHOR_PUBLICATION_ENTRY'>, 'bib': {'title': 'TRLH: Fragile and blind dual watermarking for image tamper detection and self-recovery based on lifting wavelet transform and halftoning technique', 'pub_year': '2018'}, 'filled': False, 'author_pub_id': '3Y_Nwm0AAAAJ:hMod-77fHWUC', 'num_citations': 30, 'citedby_url': 'https://scholar.google.com/scholar?oi=bibs&hl=en&cites=1475859947767715023', 'cites_id': ['1475859947767715023']}, {'container_type': 'Publication', 'source': <PublicationSource.AUTHOR_PUBLICATION_ENTRY: 'AUTHOR_PUBLICATION_ENTRY'>, 'bib': {'title': 'A new approach to segmentation of 2D range scans into linear regions', 'pub_year': '2007'}, 'filled': False, 'author_pub_id': '3Y_Nwm0AAAAJ:IjCSPb-OGe4C', 'num_citations': 28, 'citedby_url': 'https://scholar.google.com/scholar?oi=bibs&hl=en&cites=14371963642438803737', 'cites_id': ['14371963642438803737']}, {'container_type': 'Publication', 'source': <PublicationSource.AUTHOR_PUBLICATION_ENTRY: 'AUTHOR_PUBLICATION_ENTRY'>, 'bib': {'title': 'Parallel RANSAC: Speeding up plane extraction in RGBD image sequences using GPU', 'pub_year': '2015'}, 'filled': False, 'author_pub_id': '3Y_Nwm0AAAAJ:mB3voiENLucC', 'num_citations': 22, 'citedby_url': 'https://scholar.google.com/scholar?oi=bibs&hl=en&cites=15294931113635814137', 'cites_id': ['15294931113635814137']}, {'container_type': 'Publication', 'source': <PublicationSource.AUTHOR_PUBLICATION_ENTRY: 'AUTHOR_PUBLICATION_ENTRY'>, 'bib': {'title': 'Incremental object part detection toward object classification in a sequence of noisy range images', 'pub_year': '2008'}, 'filled': False, 'author_pub_id': '3Y_Nwm0AAAAJ:2osOgNQ5qMEC', 'num_citations': 22, 'citedby_url': 'https://scholar.google.com/scholar?oi=bibs&hl=en&cites=16444252327079192638', 'cites_id': ['16444252327079192638']}, {'container_type': 'Publication', 'source': <PublicationSource.AUTHOR_PUBLICATION_ENTRY: 'AUTHOR_PUBLICATION_ENTRY'>, 'bib': {'title': 'Orthogonal 3D-SLAM for indoor environments using right angle corners', 'pub_year': '2007'}, 'filled': False, 'author_pub_id': '3Y_Nwm0AAAAJ:M3NEmzRMIkIC', 'num_citations': 22, 'citedby_url': 'https://scholar.google.com/scholar?oi=bibs&hl=en&cites=5535339822775686992', 'cites_id': ['5535339822775686992']}, {'container_type': 'Publication', 'source': <PublicationSource.AUTHOR_PUBLICATION_ENTRY: 'AUTHOR_PUBLICATION_ENTRY'>, 'bib': {'title': 'Knowledge-based multiagent credit assignment: A study on task type and critic information', 'pub_year': '2007'}, 'filled': False, 'author_pub_id': '3Y_Nwm0AAAAJ:8k81kl-MbHgC', 'num_citations': 18, 'citedby_url': 'https://scholar.google.com/scholar?oi=bibs&hl=en&cites=16786833873327025549', 'cites_id': ['16786833873327025549']}, {'container_type': 'Publication', 'source': <PublicationSource.AUTHOR_PUBLICATION_ENTRY: 'AUTHOR_PUBLICATION_ENTRY'>, 'bib': {'title': 'Network security risk mitigation using Bayesian decision networks', 'pub_year': '2014'}, 'filled': False, 'author_pub_id': '3Y_Nwm0AAAAJ:4DMP91E08xMC', 'num_citations': 17, 'citedby_url': 'https://scholar.google.com/scholar?oi=bibs&hl=en&cites=1923603617888353165', 'cites_id': ['1923603617888353165']}, {'container_type': 'Publication', 'source': <PublicationSource.AUTHOR_PUBLICATION_ENTRY: 'AUTHOR_PUBLICATION_ENTRY'>, 'bib': {'title': 'Design and development of a pole climbing robot mechanism', 'pub_year': '2004'}, 'filled': False, 'author_pub_id': '3Y_Nwm0AAAAJ:5nxA0vEk-isC', 'num_citations': 17, 'citedby_url': 'https://scholar.google.com/scholar?oi=bibs&hl=en&cites=9608586451140114601', 'cites_id': ['9608586451140114601']}, {'container_type': 'Publication', 'source': <PublicationSource.AUTHOR_PUBLICATION_ENTRY: 'AUTHOR_PUBLICATION_ENTRY'>, 'bib': {'title': 'Salient object detection in video using deep non-local neural networks', 'pub_year': '2020'}, 'filled': False, 'author_pub_id': '3Y_Nwm0AAAAJ:NaGl4SEjCO4C', 'num_citations': 16, 'citedby_url': 'https://scholar.google.com/scholar?oi=bibs&hl=en&cites=9348910027293078313', 'cites_id': ['9348910027293078313']}, {'container_type': 'Publication', 'source': <PublicationSource.AUTHOR_PUBLICATION_ENTRY: 'AUTHOR_PUBLICATION_ENTRY'>, 'bib': {'title': 'Object classification based on a geometric grammar with a range camera', 'pub_year': '2009'}, 'filled': False, 'author_pub_id': '3Y_Nwm0AAAAJ:UeHWp8X0CEIC', 'num_citations': 15, 'citedby_url': 'https://scholar.google.com/scholar?oi=bibs&hl=en&cites=6819753936244345219', 'cites_id': ['6819753936244345219']}, {'container_type': 'Publication', 'source': <PublicationSource.AUTHOR_PUBLICATION_ENTRY: 'AUTHOR_PUBLICATION_ENTRY'>, 'bib': {'title': 'SEIMCHA: A new semantic image CAPTCHA using geometric transformations', 'pub_year': '2012'}, 'filled': False, 'author_pub_id': '3Y_Nwm0AAAAJ:LkGwnXOMwfcC', 'num_citations': 11, 'citedby_url': 'https://scholar.google.com/scholar?oi=bibs&hl=en&cites=9379669443677282173', 'cites_id': ['9379669443677282173']}, {'container_type': 'Publication', 'source': <PublicationSource.AUTHOR_PUBLICATION_ENTRY: 'AUTHOR_PUBLICATION_ENTRY'>, 'bib': {'title': 'SEIMCHA: A new semantic image CAPTCHA using geometric transformations', 'pub_year': '2012'}, 'filled': False, 'author_pub_id': '3Y_Nwm0AAAAJ:YsMSGLbcyi4C', 'num_citations': 11, 'citedby_url': 'https://scholar.google.com/scholar?oi=bibs&hl=en&cites=9379669443677282173', 'cites_id': ['9379669443677282173']}, {'container_type': 'Publication', 'source': <PublicationSource.AUTHOR_PUBLICATION_ENTRY: 'AUTHOR_PUBLICATION_ENTRY'>, 'bib': {'title': 'A probabilistic framework for copy-move forgery detection based on Markov Random Field', 'pub_year': '2019'}, 'filled': False, 'author_pub_id': '3Y_Nwm0AAAAJ:pqnbT2bcN3wC', 'num_citations': 10, 'citedby_url': 'https://scholar.google.com/scholar?oi=bibs&hl=en&cites=18181167576978911033', 'cites_id': ['18181167576978911033']}, {'container_type': 'Publication', 'source': <PublicationSource.AUTHOR_PUBLICATION_ENTRY: 'AUTHOR_PUBLICATION_ENTRY'>, 'bib': {'title': 'A feasibility study on detection of neovascularization in retinal color images using texture', 'pub_year': '2012'}, 'filled': False, 'author_pub_id': '3Y_Nwm0AAAAJ:UebtZRa9Y70C', 'num_citations': 10, 'citedby_url': 'https://scholar.google.com/scholar?oi=bibs&hl=en&cites=14335671060594719925', 'cites_id': ['14335671060594719925']}, {'container_type': 'Publication', 'source': <PublicationSource.AUTHOR_PUBLICATION_ENTRY: 'AUTHOR_PUBLICATION_ENTRY'>, 'bib': {'title': 'Constrained semi-supervised growing self-organizing map', 'pub_year': '2015'}, 'filled': False, 'author_pub_id': '3Y_Nwm0AAAAJ:ufrVoPGSRksC', 'num_citations': 9, 'citedby_url': 'https://scholar.google.com/scholar?oi=bibs&hl=en&cites=2998902673236262649', 'cites_id': ['2998902673236262649']}, {'container_type': 'Publication', 'source': <PublicationSource.AUTHOR_PUBLICATION_ENTRY: 'AUTHOR_PUBLICATION_ENTRY'>, 'bib': {'title': 'Multiple seimcha: multiple semantic image captcha', 'pub_year': '2011'}, 'filled': False, 'author_pub_id': '3Y_Nwm0AAAAJ:roLk4NBRz8UC', 'num_citations': 9, 'citedby_url': 'https://scholar.google.com/scholar?oi=bibs&hl=en&cites=17091550962071463139', 'cites_id': ['17091550962071463139']}, {'container_type': 'Publication', 'source': <PublicationSource.AUTHOR_PUBLICATION_ENTRY: 'AUTHOR_PUBLICATION_ENTRY'>, 'bib': {'title': 'Multiple seimcha: multiple semantic image captcha', 'pub_year': '2011'}, 'filled': False, 'author_pub_id': '3Y_Nwm0AAAAJ:W7OEmFMy1HYC', 'num_citations': 9, 'citedby_url': 'https://scholar.google.com/scholar?oi=bibs&hl=en&cites=17091550962071463139', 'cites_id': ['17091550962071463139']}, {'container_type': 'Publication', 'source': <PublicationSource.AUTHOR_PUBLICATION_ENTRY: 'AUTHOR_PUBLICATION_ENTRY'>, 'bib': {'title': 'Structure verification toward object classification using a range camera', 'pub_year': '2008'}, 'filled': False, 'author_pub_id': '3Y_Nwm0AAAAJ:zYLM7Y9cAGgC', 'num_citations': 9, 'citedby_url': 'https://scholar.google.com/scholar?oi=bibs&hl=en&cites=3048468297336584328', 'cites_id': ['3048468297336584328']}, {'container_type': 'Publication', 'source': <PublicationSource.AUTHOR_PUBLICATION_ENTRY: 'AUTHOR_PUBLICATION_ENTRY'>, 'bib': {'title': 'Experimental analysis of knowledge based multiagent credit assignment', 'pub_year': '2004'}, 'filled': False, 'author_pub_id': '3Y_Nwm0AAAAJ:MXK_kJrjxJIC', 'num_citations': 9, 'citedby_url': 'https://scholar.google.com/scholar?oi=bibs&hl=en&cites=13414073299967084281', 'cites_id': ['13414073299967084281']}, {'container_type': 'Publication', 'source': <PublicationSource.AUTHOR_PUBLICATION_ENTRY: 'AUTHOR_PUBLICATION_ENTRY'>, 'bib': {'title': 'A component-based video content representation for action recognition', 'pub_year': '2019'}, 'filled': False, 'author_pub_id': '3Y_Nwm0AAAAJ:SeFeTyx0c_EC', 'num_citations': 8, 'citedby_url': 'https://scholar.google.com/scholar?oi=bibs&hl=en&cites=7389270912244433485', 'cites_id': ['7389270912244433485']}, {'container_type': 'Publication', 'source': <PublicationSource.AUTHOR_PUBLICATION_ENTRY: 'AUTHOR_PUBLICATION_ENTRY'>, 'bib': {'title': 'Iterative Wedgelet Transform: An efficient algorithm for computing wedgelet representation and approximation of images', 'pub_year': '2016'}, 'filled': False, 'author_pub_id': '3Y_Nwm0AAAAJ:hC7cP41nSMkC', 'num_citations': 7, 'citedby_url': 'https://scholar.google.com/scholar?oi=bibs&hl=en&cites=17326291193313816295', 'cites_id': ['17326291193313816295']}, {'container_type': 'Publication', 'source': <PublicationSource.AUTHOR_PUBLICATION_ENTRY: 'AUTHOR_PUBLICATION_ENTRY'>, 'bib': {'title': 'Marker-based human pose tracking using adaptive annealed particle swarm optimization with search space partitioning', 'pub_year': '2017'}, 'filled': False, 'author_pub_id': '3Y_Nwm0AAAAJ:maZDTaKrznsC', 'num_citations': 6, 'citedby_url': 'https://scholar.google.com/scholar?oi=bibs&hl=en&cites=12768731832862432122', 'cites_id': ['12768731832862432122']}, {'container_type': 'Publication', 'source': <PublicationSource.AUTHOR_PUBLICATION_ENTRY: 'AUTHOR_PUBLICATION_ENTRY'>, 'bib': {'title': 'Planelets—A Piecewise Linear Fractional Model for Preserving Scene Geometry in Intra-Coding of Indoor Depth Images', 'pub_year': '2016'}, 'filled': False, 'author_pub_id': '3Y_Nwm0AAAAJ:iH-uZ7U-co4C', 'num_citations': 6, 'citedby_url': 'https://scholar.google.com/scholar?oi=bibs&hl=en&cites=56278121701575302', 'cites_id': ['56278121701575302']}, {'container_type': 'Publication', 'source': <PublicationSource.AUTHOR_PUBLICATION_ENTRY: 'AUTHOR_PUBLICATION_ENTRY'>, 'bib': {'title': 'A Bayesian conceptualization of space for mobile robots: Using the number of occurrences of objects to infer concepts', 'pub_year': '2007'}, 'filled': False, 'author_pub_id': '3Y_Nwm0AAAAJ:9ZlFYXVOiuMC', 'num_citations': 6, 'citedby_url': 'https://scholar.google.com/scholar?oi=bibs&hl=en&cites=4274945831484537725', 'cites_id': ['4274945831484537725']}, {'container_type': 'Publication', 'source': <PublicationSource.AUTHOR_PUBLICATION_ENTRY: 'AUTHOR_PUBLICATION_ENTRY'>, 'bib': {'title': 'A bayesian approach to conceptualization and place classification: Using the number of occurrences of objects to infer concepts', 'pub_year': '2007'}, 'filled': False, 'author_pub_id': '3Y_Nwm0AAAAJ:Tyk-4Ss8FVUC', 'num_citations': 6, 'citedby_url': 'https://scholar.google.com/scholar?oi=bibs&hl=en&cites=1893220685200142513,9492053439281512865', 'cites_id': ['1893220685200142513', '9492053439281512865']}, {'container_type': 'Publication', 'source': <PublicationSource.AUTHOR_PUBLICATION_ENTRY: 'AUTHOR_PUBLICATION_ENTRY'>, 'bib': {'title': 'A new approach to credit assignment in a team of cooperative Q-learning agents', 'pub_year': '2002'}, 'filled': False, 'author_pub_id': '3Y_Nwm0AAAAJ:3fE2CSJIrl8C', 'num_citations': 6, 'citedby_url': 'https://scholar.google.com/scholar?oi=bibs&hl=en&cites=16440405400274181181', 'cites_id': ['16440405400274181181']}, {'container_type': 'Publication', 'source': <PublicationSource.AUTHOR_PUBLICATION_ENTRY: 'AUTHOR_PUBLICATION_ENTRY'>, 'bib': {'title': 'PiSHi: click the images and I tell if you are a human', 'pub_year': '2017'}, 'filled': False, 'author_pub_id': '3Y_Nwm0AAAAJ:e5wmG9Sq2KIC', 'num_citations': 5, 'citedby_url': 'https://scholar.google.com/scholar?oi=bibs&hl=en&cites=8367752353835239498', 'cites_id': ['8367752353835239498'], 'public_access': True}, {'container_type': 'Publication', 'source': <PublicationSource.AUTHOR_PUBLICATION_ENTRY: 'AUTHOR_PUBLICATION_ENTRY'>, 'bib': {'title': 'Multi scale CRF based RGB-D image segmentation using inter frames potentials', 'pub_year': '2014'}, 'filled': False, 'author_pub_id': '3Y_Nwm0AAAAJ:qxL8FJ1GzNcC', 'num_citations': 5, 'citedby_url': 'https://scholar.google.com/scholar?oi=bibs&hl=en&cites=1705818955272963856', 'cites_id': ['1705818955272963856']}, {'container_type': 'Publication', 'source': <PublicationSource.AUTHOR_PUBLICATION_ENTRY: 'AUTHOR_PUBLICATION_ENTRY'>, 'bib': {'title': 'A hierarchical concept oriented representation for spatial cognition in mobile robots', 'pub_year': '2007'}, 'filled': False, 'author_pub_id': '3Y_Nwm0AAAAJ:Y0pCki6q_DkC', 'num_citations': 5, 'citedby_url': 'https://scholar.google.com/scholar?oi=bibs&hl=en&cites=6907588185983538847', 'cites_id': ['6907588185983538847'], 'public_access': True}, {'container_type': 'Publication', 'source': <PublicationSource.AUTHOR_PUBLICATION_ENTRY: 'AUTHOR_PUBLICATION_ENTRY'>, 'bib': {'title': 'Diversity-based diffusion robust RLS using adaptive forgetting factor', 'pub_year': '2021'}, 'filled': False, 'author_pub_id': '3Y_Nwm0AAAAJ:pyW8ca7W8N0C', 'num_citations': 4, 'citedby_url': 'https://scholar.google.com/scholar?oi=bibs&hl=en&cites=1616648357185133649', 'cites_id': ['1616648357185133649']}, {'container_type': 'Publication', 'source': <PublicationSource.AUTHOR_PUBLICATION_ENTRY: 'AUTHOR_PUBLICATION_ENTRY'>, 'bib': {'title': 'Retinal image assessment using bi-level adaptive morphological component analysis', 'pub_year': '2019'}, 'filled': False, 'author_pub_id': '3Y_Nwm0AAAAJ:HoB7MX3m0LUC', 'num_citations': 4, 'citedby_url': 'https://scholar.google.com/scholar?oi=bibs&hl=en&cites=18371086723412358938', 'cites_id': ['18371086723412358938']}, {'container_type': 'Publication', 'source': <PublicationSource.AUTHOR_PUBLICATION_ENTRY: 'AUTHOR_PUBLICATION_ENTRY'>, 'bib': {'title': 'Marker based human pose estimation using annealed particle swarm optimization with search space partitioning', 'pub_year': '2014'}, 'filled': False, 'author_pub_id': '3Y_Nwm0AAAAJ:Wp0gIr-vW9MC', 'num_citations': 4, 'citedby_url': 'https://scholar.google.com/scholar?oi=bibs&hl=en&cites=16203433683699899742', 'cites_id': ['16203433683699899742']}, {'container_type': 'Publication', 'source': <PublicationSource.AUTHOR_PUBLICATION_ENTRY: 'AUTHOR_PUBLICATION_ENTRY'>, 'bib': {'title': 'Brain-behavior relationships in the perceptual decision-making process through cognitive processing stages', 'pub_year': '2021'}, 'filled': False, 'author_pub_id': '3Y_Nwm0AAAAJ:yD5IFk8b50cC', 'num_citations': 3, 'citedby_url': 'https://scholar.google.com/scholar?oi=bibs&hl=en&cites=6394384366929454537', 'cites_id': ['6394384366929454537']}, {'container_type': 'Publication', 'source': <PublicationSource.AUTHOR_PUBLICATION_ENTRY: 'AUTHOR_PUBLICATION_ENTRY'>, 'bib': {'title': 'Efficient scheduling of streams on GPGPUs.', 'pub_year': '2020'}, 'filled': False, 'author_pub_id': '3Y_Nwm0AAAAJ:u_35RYKgDlwC', 'num_citations': 3, 'citedby_url': 'https://scholar.google.com/scholar?oi=bibs&hl=en&cites=3515813996942151439', 'cites_id': ['3515813996942151439']}, {'container_type': 'Publication', 'source': <PublicationSource.AUTHOR_PUBLICATION_ENTRY: 'AUTHOR_PUBLICATION_ENTRY'>, 'bib': {'title': 'Study of shearlet transform using block matrix dilation', 'pub_year': '2018'}, 'filled': False, 'author_pub_id': '3Y_Nwm0AAAAJ:JV2RwH3_ST0C', 'num_citations': 3, 'citedby_url': 'https://scholar.google.com/scholar?oi=bibs&hl=en&cites=2164619474922756641', 'cites_id': ['2164619474922756641']}, {'container_type': 'Publication', 'source': <PublicationSource.AUTHOR_PUBLICATION_ENTRY: 'AUTHOR_PUBLICATION_ENTRY'>, 'bib': {'title': 'A relaxation approach to computation of second-order wedgelet transform with application to image compression', 'pub_year': '2016'}, 'filled': False, 'author_pub_id': '3Y_Nwm0AAAAJ:hFOr9nPyWt4C', 'num_citations': 3, 'citedby_url': 'https://scholar.google.com/scholar?oi=bibs&hl=en&cites=5880390615825801354', 'cites_id': ['5880390615825801354']}, {'container_type': 'Publication', 'source': <PublicationSource.AUTHOR_PUBLICATION_ENTRY: 'AUTHOR_PUBLICATION_ENTRY'>, 'bib': {'title': 'Toward application of extremal optimization algorithm in image segmentation', 'pub_year': '2012'}, 'filled': False, 'author_pub_id': '3Y_Nwm0AAAAJ:WF5omc3nYNoC', 'num_citations': 3, 'citedby_url': 'https://scholar.google.com/scholar?oi=bibs&hl=en&cites=7690030734530464380', 'cites_id': ['7690030734530464380']}, {'container_type': 'Publication', 'source': <PublicationSource.AUTHOR_PUBLICATION_ENTRY: 'AUTHOR_PUBLICATION_ENTRY'>, 'bib': {'title': 'Multiagent credit assignment in a team of cooperative q-learning agents with a parallel task', 'pub_year': '2002'}, 'filled': False, 'author_pub_id': '3Y_Nwm0AAAAJ:kNdYIx-mwKoC', 'num_citations': 3, 'citedby_url': 'https://scholar.google.com/scholar?oi=bibs&hl=en&cites=6785414148983912060', 'cites_id': ['6785414148983912060']}, {'container_type': 'Publication', 'source': <PublicationSource.AUTHOR_PUBLICATION_ENTRY: 'AUTHOR_PUBLICATION_ENTRY'>, 'bib': {'title': 'Training LDCRF model on unsegmented sequences using Connectionist Temporal Classification', 'pub_year': '2016'}, 'filled': False, 'author_pub_id': '3Y_Nwm0AAAAJ:4JMBOYKVnBMC', 'num_citations': 2, 'citedby_url': 'https://scholar.google.com/scholar?oi=bibs&hl=en&cites=807066519473788615', 'cites_id': ['807066519473788615']}, {'container_type': 'Publication', 'source': <PublicationSource.AUTHOR_PUBLICATION_ENTRY: 'AUTHOR_PUBLICATION_ENTRY'>, 'bib': {'title': 'Point cloud registration using MSSIR: Maximally stable shape index regions', 'pub_year': '2013'}, 'filled': False, 'author_pub_id': '3Y_Nwm0AAAAJ:eQOLeE2rZwMC', 'num_citations': 2, 'citedby_url': 'https://scholar.google.com/scholar?oi=bibs&hl=en&cites=4257731377027642437', 'cites_id': ['4257731377027642437']}, {'container_type': 'Publication', 'source': <PublicationSource.AUTHOR_PUBLICATION_ENTRY: 'AUTHOR_PUBLICATION_ENTRY'>, 'bib': {'title': 'Multiple SEIMCHA', 'pub_year': '2011'}, 'filled': False, 'author_pub_id': '3Y_Nwm0AAAAJ:R3hNpaxXUhUC', 'num_citations': 2, 'citedby_url': 'https://scholar.google.com/scholar?oi=bibs&hl=en&cites=3555034443256594874', 'cites_id': ['3555034443256594874']}, {'container_type': 'Publication', 'source': <PublicationSource.AUTHOR_PUBLICATION_ENTRY: 'AUTHOR_PUBLICATION_ENTRY'>, 'bib': {'title': 'Certainty and expertness-based credit assignment for cooperative Q-Learning agents with an AND-type task', 'pub_year': '2002'}, 'filled': False, 'author_pub_id': '3Y_Nwm0AAAAJ:KlAtU1dfN6UC', 'num_citations': 2, 'citedby_url': 'https://scholar.google.com/scholar?oi=bibs&hl=en&cites=15029358839327074953', 'cites_id': ['15029358839327074953']}, {'container_type': 'Publication', 'source': <PublicationSource.AUTHOR_PUBLICATION_ENTRY: 'AUTHOR_PUBLICATION_ENTRY'>, 'bib': {'title': 'WSMN: An optimized multipurpose blind watermarking in Shearlet domain using MLP and NSGA-II', 'pub_year': '2021'}, 'filled': False, 'author_pub_id': '3Y_Nwm0AAAAJ:4OULZ7Gr8RgC', 'num_citations': 1, 'citedby_url': 'https://scholar.google.com/scholar?oi=bibs&hl=en&cites=448851131559914890', 'cites_id': ['448851131559914890']}, {'container_type': 'Publication', 'source': <PublicationSource.AUTHOR_PUBLICATION_ENTRY: 'AUTHOR_PUBLICATION_ENTRY'>, 'bib': {'title': 'Diversity-based diffusion robust RLS using adaptive forgetting factor', 'pub_year': '2020'}, 'filled': False, 'author_pub_id': '3Y_Nwm0AAAAJ:f2IySw72cVMC', 'num_citations': 1, 'citedby_url': 'https://scholar.google.com/scholar?oi=bibs&hl=en&cites=14440533932740367279', 'cites_id': ['14440533932740367279']}, {'container_type': 'Publication', 'source': <PublicationSource.AUTHOR_PUBLICATION_ENTRY: 'AUTHOR_PUBLICATION_ENTRY'>, 'bib': {'title': 'Prototype-based interpretation of the functionality of neurons in winner-take-all neural networks', 'pub_year': '2020'}, 'filled': False, 'author_pub_id': '3Y_Nwm0AAAAJ:a0OBvERweLwC', 'num_citations': 1, 'citedby_url': 'https://scholar.google.com/scholar?oi=bibs&hl=en&cites=2267905311749905481', 'cites_id': ['2267905311749905481']}, {'container_type': 'Publication', 'source': <PublicationSource.AUTHOR_PUBLICATION_ENTRY: 'AUTHOR_PUBLICATION_ENTRY'>, 'bib': {'title': 'Video Denoising Using block Shearlet Transform', 'pub_year': '2018'}, 'filled': False, 'author_pub_id': '3Y_Nwm0AAAAJ:ldfaerwXgEUC', 'num_citations': 1, 'citedby_url': 'https://scholar.google.com/scholar?oi=bibs&hl=en&cites=11150945751451967027', 'cites_id': ['11150945751451967027']}, {'container_type': 'Publication', 'source': <PublicationSource.AUTHOR_PUBLICATION_ENTRY: 'AUTHOR_PUBLICATION_ENTRY'>, 'bib': {'title': 'Modeling intra-label dynamics in connectionist temporal classification', 'pub_year': '2017'}, 'filled': False, 'author_pub_id': '3Y_Nwm0AAAAJ:BqipwSGYUEgC', 'num_citations': 1, 'citedby_url': 'https://scholar.google.com/scholar?oi=bibs&hl=en&cites=4346046040203157545', 'cites_id': ['4346046040203157545']}, {'container_type': 'Publication', 'source': <PublicationSource.AUTHOR_PUBLICATION_ENTRY: 'AUTHOR_PUBLICATION_ENTRY'>, 'bib': {'title': 'Modeling energy and performance of Phoenix++ based parallel programs', 'pub_year': '2017'}, 'filled': False, 'author_pub_id': '3Y_Nwm0AAAAJ:YFjsv_pBGBYC', 'num_citations': 1, 'citedby_url': 'https://scholar.google.com/scholar?oi=bibs&hl=en&cites=9658999732295294177', 'cites_id': ['9658999732295294177']}, {'container_type': 'Publication', 'source': <PublicationSource.AUTHOR_PUBLICATION_ENTRY: 'AUTHOR_PUBLICATION_ENTRY'>, 'bib': {'title': 'Superpixel based RGB-D image segmentation using Markov random field', 'pub_year': '2015'}, 'filled': False, 'author_pub_id': '3Y_Nwm0AAAAJ:ZeXyd9-uunAC', 'num_citations': 1, 'citedby_url': 'https://scholar.google.com/scholar?oi=bibs&hl=en&cites=16578971099600135438', 'cites_id': ['16578971099600135438']}, {'container_type': 'Publication', 'source': <PublicationSource.AUTHOR_PUBLICATION_ENTRY: 'AUTHOR_PUBLICATION_ENTRY'>, 'bib': {'title': 'Trilateral filtering of range images using normal inner products', 'pub_year': '2014'}, 'filled': False, 'author_pub_id': '3Y_Nwm0AAAAJ:M3ejUd6NZC8C', 'num_citations': 1, 'citedby_url': 'https://scholar.google.com/scholar?oi=bibs&hl=en&cites=13777190070102474998', 'cites_id': ['13777190070102474998']}, {'container_type': 'Publication', 'source': <PublicationSource.AUTHOR_PUBLICATION_ENTRY: 'AUTHOR_PUBLICATION_ENTRY'>, 'bib': {'title': 'Depth image compression using geometrical wavelets', 'pub_year': '2014'}, 'filled': False, 'author_pub_id': '3Y_Nwm0AAAAJ:L8Ckcad2t8MC', 'num_citations': 1, 'citedby_url': 'https://scholar.google.com/scholar?oi=bibs&hl=en&cites=14715447228984895261', 'cites_id': ['14715447228984895261']}, {'container_type': 'Publication', 'source': <PublicationSource.AUTHOR_PUBLICATION_ENTRY: 'AUTHOR_PUBLICATION_ENTRY'>, 'bib': {'title': 'Fuzzy discrete correlation for document clustering', 'pub_year': '2011'}, 'filled': False, 'author_pub_id': '3Y_Nwm0AAAAJ:Zph67rFs4hoC', 'num_citations': 1, 'citedby_url': 'https://scholar.google.com/scholar?oi=bibs&hl=en&cites=4729382392939202534', 'cites_id': ['4729382392939202534']}, {'container_type': 'Publication', 'source': <PublicationSource.AUTHOR_PUBLICATION_ENTRY: 'AUTHOR_PUBLICATION_ENTRY'>, 'bib': {'title': 'Simultaneous localization and mapping for structured indoor environments', 'pub_year': '2008'}, 'filled': False, 'author_pub_id': '3Y_Nwm0AAAAJ:Se3iqnhoufwC', 'num_citations': 1, 'citedby_url': 'https://scholar.google.com/scholar?oi=bibs&hl=en&cites=12920913754965159281', 'cites_id': ['12920913754965159281']}, {'container_type': 'Publication', 'source': <PublicationSource.AUTHOR_PUBLICATION_ENTRY: 'AUTHOR_PUBLICATION_ENTRY'>, 'bib': {'title': 'Convergence and performance analysis of kernel regularized robust recursive least squares', 'pub_year': '2020'}, 'filled': False, 'author_pub_id': '3Y_Nwm0AAAAJ:cFHS6HbyZ2cC', 'num_citations': 0}, {'container_type': 'Publication', 'source': <PublicationSource.AUTHOR_PUBLICATION_ENTRY: 'AUTHOR_PUBLICATION_ENTRY'>, 'bib': {'title': 'Prototype-based interpretation of the functionality of neurons in winner-take-all neural networks', 'pub_year': '2020'}, 'filled': False, 'author_pub_id': '3Y_Nwm0AAAAJ:D03iK_w7-QYC', 'num_citations': 0}, {'container_type': 'Publication', 'source': <PublicationSource.AUTHOR_PUBLICATION_ENTRY: 'AUTHOR_PUBLICATION_ENTRY'>, 'bib': {'title': 'Planelet Transform: A New Geometrical Wavelet for Compression of Kinect-like Depth Images', 'pub_year': '2019'}, 'filled': False, 'author_pub_id': '3Y_Nwm0AAAAJ:ZHo1McVdvXMC', 'num_citations': 0}, {'container_type': 'Publication', 'source': <PublicationSource.AUTHOR_PUBLICATION_ENTRY: 'AUTHOR_PUBLICATION_ENTRY'>, 'bib': {'title': 'Enhancing Human Action Recognition through Temporal Saliency', 'pub_year': '2018'}, 'filled': False, 'author_pub_id': '3Y_Nwm0AAAAJ:RGFaLdJalmkC', 'num_citations': 0}, {'container_type': 'Publication', 'source': <PublicationSource.AUTHOR_PUBLICATION_ENTRY: 'AUTHOR_PUBLICATION_ENTRY'>, 'bib': {'title': 'Modeling Intra-label Dynamics and Analyzing the Role of Blank in Connectionist Temporal Classification', 'pub_year': '2018'}, 'filled': False, 'author_pub_id': '3Y_Nwm0AAAAJ:O3NaXMp0MMsC', 'num_citations': 0}, {'container_type': 'Publication', 'source': <PublicationSource.AUTHOR_PUBLICATION_ENTRY: 'AUTHOR_PUBLICATION_ENTRY'>, 'bib': {'title': 'Modeling intra-label dynamics in connectionist temporal classification', 'pub_year': '2017'}, 'filled': False, 'author_pub_id': '3Y_Nwm0AAAAJ:g5m5HwL7SMYC', 'num_citations': 0}, {'container_type': 'Publication', 'source': <PublicationSource.AUTHOR_PUBLICATION_ENTRY: 'AUTHOR_PUBLICATION_ENTRY'>, 'bib': {'title': 'Study of shearlet transform using block matrix dilation', 'pub_year': '2017'}, 'filled': False, 'author_pub_id': '3Y_Nwm0AAAAJ:blknAaTinKkC', 'num_citations': 0}, {'container_type': 'Publication', 'source': <PublicationSource.AUTHOR_PUBLICATION_ENTRY: 'AUTHOR_PUBLICATION_ENTRY'>, 'bib': {'title': 'Training LDCRF model on unsegmented sequences using Connectionist Temporal Classification', 'pub_year': '2016'}, 'filled': False, 'author_pub_id': '3Y_Nwm0AAAAJ:3s1wT3WcHBgC', 'num_citations': 0}, {'container_type': 'Publication', 'source': <PublicationSource.AUTHOR_PUBLICATION_ENTRY: 'AUTHOR_PUBLICATION_ENTRY'>, 'bib': {'title': 'TRAINING LDCRF MODEL ON UNSEGMENTED SEQUENCES USING CONNECTIONIST TEMPORAL CLASSIFICATION', 'pub_year': '2016'}, 'filled': False, 'author_pub_id': '3Y_Nwm0AAAAJ:vV6vV6tmYwMC', 'num_citations': 0}, {'container_type': 'Publication', 'source': <PublicationSource.AUTHOR_PUBLICATION_ENTRY: 'AUTHOR_PUBLICATION_ENTRY'>, 'bib': {'title': 'CGSR features: Toward RGB-D image matching using color gradient description of geometrically stable regions', 'pub_year': '2015'}, 'filled': False, 'author_pub_id': '3Y_Nwm0AAAAJ:IWHjjKOFINEC', 'num_citations': 0}, {'container_type': 'Publication', 'source': <PublicationSource.AUTHOR_PUBLICATION_ENTRY: 'AUTHOR_PUBLICATION_ENTRY'>, 'bib': {'title': 'SUPERPIXEL BASED RGB-D IMAGE SEGMENTATION USING MARKOV RANDOM FIELDJJHESAM@ AUT. AC. IR', 'pub_year': '2015'}, 'filled': False, 'author_pub_id': '3Y_Nwm0AAAAJ:J_g5lzvAfSwC', 'num_citations': 0}, {'container_type': 'Publication', 'source': <PublicationSource.AUTHOR_PUBLICATION_ENTRY: 'AUTHOR_PUBLICATION_ENTRY'>, 'bib': {'title': 'Range Image Denoising Using a Custom Built Multiscale Transform', 'pub_year': '2014'}, 'filled': False, 'author_pub_id': '3Y_Nwm0AAAAJ:RHpTSmoSYBkC', 'num_citations': 0}, {'container_type': 'Publication', 'source': <PublicationSource.AUTHOR_PUBLICATION_ENTRY: 'AUTHOR_PUBLICATION_ENTRY'>, 'bib': {'title': 'Range image denoising using a custom built multiscale transform', 'pub_year': '2014'}, 'filled': False, 'author_pub_id': '3Y_Nwm0AAAAJ:aqlVkmm33-oC', 'num_citations': 0}, {'container_type': 'Publication', 'source': <PublicationSource.AUTHOR_PUBLICATION_ENTRY: 'AUTHOR_PUBLICATION_ENTRY'>, 'bib': {'title': 'Depth Image Compression Using Geometrical Wavelets', 'pub_year': '2014'}, 'filled': False, 'author_pub_id': '3Y_Nwm0AAAAJ:_FxGoFyzp5QC', 'num_citations': 0}, {'container_type': 'Publication', 'source': <PublicationSource.AUTHOR_PUBLICATION_ENTRY: 'AUTHOR_PUBLICATION_ENTRY'>, 'bib': {'title': 'Amirhossein Gharib', 'pub_year': '2014'}, 'filled': False, 'author_pub_id': '3Y_Nwm0AAAAJ:7PzlFSSx8tAC', 'num_citations': 0}, {'container_type': 'Publication', 'source': <PublicationSource.AUTHOR_PUBLICATION_ENTRY: 'AUTHOR_PUBLICATION_ENTRY'>, 'bib': {'title': 'Point Cloud Registration Using MSSIR: Maximally Stable Shape Index Regions', 'pub_year': '2013'}, 'filled': False, 'author_pub_id': '3Y_Nwm0AAAAJ:r0BpntZqJG4C', 'num_citations': 0}, {'container_type': 'Publication', 'source': <PublicationSource.AUTHOR_PUBLICATION_ENTRY: 'AUTHOR_PUBLICATION_ENTRY'>, 'bib': {'title': 'عملکرد الگوریتم بهینه سازی اکسترمال در بهینه سازی تقطیع تصاویر پزشکی\\u200e', 'pub_year': '2012'}, 'filled': False, 'author_pub_id': '3Y_Nwm0AAAAJ:_Qo2XoVZTnwC', 'num_citations': 0}, {'container_type': 'Publication', 'source': <PublicationSource.AUTHOR_PUBLICATION_ENTRY: 'AUTHOR_PUBLICATION_ENTRY'>, 'bib': {'title': 'Toward Application of Sandpile Model in Image Segmentation Based on Extremal Optimization Heuristic', 'pub_year': '2012'}, 'filled': False, 'author_pub_id': '3Y_Nwm0AAAAJ:hqOjcs7Dif8C', 'num_citations': 0}, {'container_type': 'Publication', 'source': <PublicationSource.AUTHOR_PUBLICATION_ENTRY: 'AUTHOR_PUBLICATION_ENTRY'>, 'bib': {'title': 'Performance of Extremal Optimization Algorithm in Optimizing Biomedical Image Segmentation', 'pub_year': '2012'}, 'filled': False, 'author_pub_id': '3Y_Nwm0AAAAJ:lSLTfruPkqcC', 'num_citations': 0}, {'container_type': 'Publication', 'source': <PublicationSource.AUTHOR_PUBLICATION_ENTRY: 'AUTHOR_PUBLICATION_ENTRY'>, 'bib': {'title': '2007 Index IEEE Systems Journal Vol.', 'pub_year': '2007'}, 'filled': False, 'author_pub_id': '3Y_Nwm0AAAAJ:dhFuZR0502QC', 'num_citations': 0}, {'container_type': 'Publication', 'source': <PublicationSource.AUTHOR_PUBLICATION_ENTRY: 'AUTHOR_PUBLICATION_ENTRY'>, 'bib': {'title': 'ISeCure'}, 'filled': False, 'author_pub_id': '3Y_Nwm0AAAAJ:M05iB0D1s5AC', 'num_citations': 0}, {'container_type': 'Publication', 'source': <PublicationSource.AUTHOR_PUBLICATION_ENTRY: 'AUTHOR_PUBLICATION_ENTRY'>, 'bib': {'title': 'Author Name Author Surname Page Saeid Abbaasi 141-211 Ali Abbasi 41 Ahmad Abdollahzadeh Barforoush 13'}, 'filled': False, 'author_pub_id': '3Y_Nwm0AAAAJ:bEWYMUwI8FkC', 'num_citations': 0}, {'container_type': 'Publication', 'source': <PublicationSource.AUTHOR_PUBLICATION_ENTRY: 'AUTHOR_PUBLICATION_ENTRY'>, 'bib': {'title': 'Author Paper Code'}, 'filled': False, 'author_pub_id': '3Y_Nwm0AAAAJ:qUcmZB5y_30C', 'num_citations': 0}, {'container_type': 'Publication', 'source': <PublicationSource.AUTHOR_PUBLICATION_ENTRY: 'AUTHOR_PUBLICATION_ENTRY'>, 'bib': {'title': '2 nd International eConference on Computer and Knowledge Engineering (ICCKE 2012)'}, 'filled': False, 'author_pub_id': '3Y_Nwm0AAAAJ:QIV2ME_5wuYC', 'num_citations': 0}, {'container_type': 'Publication', 'source': <PublicationSource.AUTHOR_PUBLICATION_ENTRY: 'AUTHOR_PUBLICATION_ENTRY'>, 'bib': {'title': 'Nexus 2011 3D Soccer Simulation Team Description'}, 'filled': False, 'author_pub_id': '3Y_Nwm0AAAAJ:YOwf2qJgpHMC', 'num_citations': 0}, {'container_type': 'Publication', 'source': <PublicationSource.AUTHOR_PUBLICATION_ENTRY: 'AUTHOR_PUBLICATION_ENTRY'>, 'bib': {'title': 'Nexus 2010 3D Soccer Simulation Team Description'}, 'filled': False, 'author_pub_id': '3Y_Nwm0AAAAJ:ULOm3_A8WrAC', 'num_citations': 0}], 'public_access': {'available': 3, 'not_available': 0}}\n"
          ]
        }
      ],
      "source": [
        "#Q3\n",
        "search_query = scholarly.search_author('Ahad Harati')\n",
        "author = scholarly.fill(next(search_query))\n",
        "print(author)"
      ]
    },
    {
      "cell_type": "code",
      "execution_count": 8,
      "metadata": {
        "colab": {
          "base_uri": "https://localhost:8080/"
        },
        "id": "LpNYjhan2eL-",
        "outputId": "aa1cd2d6-eeb2-4cd2-b89e-1565f97add82"
      },
      "outputs": [
        {
          "name": "stdout",
          "output_type": "stream",
          "text": [
            "['Extrinsic self calibration of a camera and a 3d laser range finder from natural scenes', 'Kinematics modeling of a wheel-based pole climbing robot (ut-pcr)', 'Orthogonal SLAM: a step toward lightweight indoor autonomous navigation', 'Vessel segmentation and microaneurysm detection using discriminative dictionary learning and sparse representation', 'A lightweight SLAM algorithm using orthogonal planes for indoor mobile robotics', 'A collective and abridged lexical query for delineation of nanotechnology publications', 'Fast range image segmentation for indoor 3D-SLAM', 'TRLH: Fragile and blind dual watermarking for image tamper detection and self-recovery based on lifting wavelet transform and halftoning technique', 'A new approach to segmentation of 2D range scans into linear regions', 'Parallel RANSAC: Speeding up plane extraction in RGBD image sequences using GPU', 'Incremental object part detection toward object classification in a sequence of noisy range images', 'Orthogonal 3D-SLAM for indoor environments using right angle corners', 'Knowledge-based multiagent credit assignment: A study on task type and critic information', 'Network security risk mitigation using Bayesian decision networks', 'Design and development of a pole climbing robot mechanism', 'Salient object detection in video using deep non-local neural networks', 'Object classification based on a geometric grammar with a range camera', 'SEIMCHA: A new semantic image CAPTCHA using geometric transformations', 'SEIMCHA: A new semantic image CAPTCHA using geometric transformations', 'A probabilistic framework for copy-move forgery detection based on Markov Random Field', 'A feasibility study on detection of neovascularization in retinal color images using texture', 'Constrained semi-supervised growing self-organizing map', 'Multiple seimcha: multiple semantic image captcha', 'Multiple seimcha: multiple semantic image captcha', 'Structure verification toward object classification using a range camera', 'Experimental analysis of knowledge based multiagent credit assignment', 'A component-based video content representation for action recognition', 'Iterative Wedgelet Transform: An efficient algorithm for computing wedgelet representation and approximation of images', 'Marker-based human pose tracking using adaptive annealed particle swarm optimization with search space partitioning', 'Planelets—A Piecewise Linear Fractional Model for Preserving Scene Geometry in Intra-Coding of Indoor Depth Images', 'A Bayesian conceptualization of space for mobile robots: Using the number of occurrences of objects to infer concepts', 'A bayesian approach to conceptualization and place classification: Using the number of occurrences of objects to infer concepts', 'A new approach to credit assignment in a team of cooperative Q-learning agents', 'PiSHi: click the images and I tell if you are a human', 'Multi scale CRF based RGB-D image segmentation using inter frames potentials', 'A hierarchical concept oriented representation for spatial cognition in mobile robots', 'Diversity-based diffusion robust RLS using adaptive forgetting factor', 'Retinal image assessment using bi-level adaptive morphological component analysis', 'Marker based human pose estimation using annealed particle swarm optimization with search space partitioning', 'Brain-behavior relationships in the perceptual decision-making process through cognitive processing stages', 'Efficient scheduling of streams on GPGPUs.', 'Study of shearlet transform using block matrix dilation', 'A relaxation approach to computation of second-order wedgelet transform with application to image compression', 'Toward application of extremal optimization algorithm in image segmentation', 'Multiagent credit assignment in a team of cooperative q-learning agents with a parallel task', 'Training LDCRF model on unsegmented sequences using Connectionist Temporal Classification', 'Point cloud registration using MSSIR: Maximally stable shape index regions', 'Multiple SEIMCHA', 'Certainty and expertness-based credit assignment for cooperative Q-Learning agents with an AND-type task', 'WSMN: An optimized multipurpose blind watermarking in Shearlet domain using MLP and NSGA-II', 'Diversity-based diffusion robust RLS using adaptive forgetting factor', 'Prototype-based interpretation of the functionality of neurons in winner-take-all neural networks', 'Video Denoising Using block Shearlet Transform', 'Modeling intra-label dynamics in connectionist temporal classification', 'Modeling energy and performance of Phoenix++ based parallel programs', 'Superpixel based RGB-D image segmentation using Markov random field', 'Trilateral filtering of range images using normal inner products', 'Depth image compression using geometrical wavelets', 'Fuzzy discrete correlation for document clustering', 'Simultaneous localization and mapping for structured indoor environments', 'Convergence and performance analysis of kernel regularized robust recursive least squares', 'Prototype-based interpretation of the functionality of neurons in winner-take-all neural networks', 'Planelet Transform: A New Geometrical Wavelet for Compression of Kinect-like Depth Images', 'Enhancing Human Action Recognition through Temporal Saliency', 'Modeling Intra-label Dynamics and Analyzing the Role of Blank in Connectionist Temporal Classification', 'Modeling intra-label dynamics in connectionist temporal classification', 'Study of shearlet transform using block matrix dilation', 'Training LDCRF model on unsegmented sequences using Connectionist Temporal Classification', 'TRAINING LDCRF MODEL ON UNSEGMENTED SEQUENCES USING CONNECTIONIST TEMPORAL CLASSIFICATION', 'CGSR features: Toward RGB-D image matching using color gradient description of geometrically stable regions', 'SUPERPIXEL BASED RGB-D IMAGE SEGMENTATION USING MARKOV RANDOM FIELDJJHESAM@ AUT. AC. IR', 'Range Image Denoising Using a Custom Built Multiscale Transform', 'Range image denoising using a custom built multiscale transform', 'Depth Image Compression Using Geometrical Wavelets', 'Amirhossein Gharib', 'Point Cloud Registration Using MSSIR: Maximally Stable Shape Index Regions', 'عملکرد الگوریتم بهینه سازی اکسترمال در بهینه سازی تقطیع تصاویر پزشکی\\u200e', 'Toward Application of Sandpile Model in Image Segmentation Based on Extremal Optimization Heuristic', 'Performance of Extremal Optimization Algorithm in Optimizing Biomedical Image Segmentation', '2007 Index IEEE Systems Journal Vol.', 'ISeCure', 'Author Name Author Surname Page Saeid Abbaasi 141-211 Ali Abbasi 41 Ahmad Abdollahzadeh Barforoush 13', 'Author Paper Code', '2 nd International eConference on Computer and Knowledge Engineering (ICCKE 2012)', 'Nexus 2011 3D Soccer Simulation Team Description', 'Nexus 2010 3D Soccer Simulation Team Description']\n",
            "{'container_type': 'Publication', 'source': <PublicationSource.AUTHOR_PUBLICATION_ENTRY: 'AUTHOR_PUBLICATION_ENTRY'>, 'bib': {'title': 'Extrinsic self calibration of a camera and a 3d laser range finder from natural scenes', 'pub_year': 2007, 'author': 'Davide Scaramuzza and Ahad Harati and Roland Siegwart', 'conference': '2007 IEEE/RSJ International Conference on Intelligent Robots and Systems', 'pages': '4164-4169', 'publisher': 'IEEE', 'abstract': 'In this paper, we describe a new approach for the extrinsic calibration of a camera with a 3D laser range finder, that can be done on the fly. This approach does not require any calibration object. Only few point correspondences are used, which are manually selected by the user from a scene viewed by the two sensors. The proposed method relies on a novel technique to visualize the range information obtained from a 3D laser scanner. This technique converts the visually ambiguous 3D range information into a 2D map where natural features of a scene are highlighted. We show that by enhancing the features the user can easily find the corresponding points of the camera image points. Therefore, visually identifying laser- camera correspondences becomes as easy as image pairing. Once point correspondences are given, extrinsic calibration is done using the well-known PnP algorithm followed by a noninear …'}, 'filled': True, 'author_pub_id': '3Y_Nwm0AAAAJ:u5HHmVD_uO8C', 'num_citations': 341, 'citedby_url': '/scholar?cites=13794208424952607640', 'cites_id': ['13794208424952607640'], 'pub_url': 'https://ieeexplore.ieee.org/abstract/document/4399276/', 'url_related_articles': '/scholar?oi=bibs&hl=en&q=related:mDMAR3rfbr8J:scholar.google.com/', 'cites_per_year': {2007: 1, 2008: 4, 2009: 12, 2010: 22, 2011: 16, 2012: 27, 2013: 26, 2014: 36, 2015: 30, 2016: 27, 2017: 21, 2018: 28, 2019: 29, 2020: 38, 2021: 19}}\n"
          ]
        }
      ],
      "source": [
        "# Print the titles of the author's publications\n",
        "print([pub['bib']['title'] for pub in author['publications']])\n",
        "\n",
        "# Take a closer look at the first publication\n",
        "pub = scholarly.fill(author['publications'][0])\n",
        "\n",
        "print(pub)"
      ]
    },
    {
      "cell_type": "code",
      "execution_count": 9,
      "metadata": {
        "id": "01XxHJBepvLu"
      },
      "outputs": [],
      "source": [
        "import json\n",
        "with open('prof.json', 'w') as f:\n",
        "    json.dump(pub, f)"
      ]
    },
    {
      "cell_type": "code",
      "execution_count": 10,
      "metadata": {
        "id": "Y_xQXsg-4WD6"
      },
      "outputs": [],
      "source": [
        "# Which papers cited that publication?\n",
        "# print([citation['bib']['title'] for citation in scholarly.citedby(pub)])"
      ]
    },
    {
      "cell_type": "code",
      "execution_count": 10,
      "metadata": {
        "colab": {
          "base_uri": "https://localhost:8080/"
        },
        "id": "5u4Y0fVx3SJ3",
        "outputId": "eae8c550-e15a-4394-a724-5ee7cdb30057"
      },
      "outputs": [
        {
          "name": "stdout",
          "output_type": "stream",
          "text": [
            "86\n"
          ]
        }
      ],
      "source": [
        "print(len(author['publications']))#total publications"
      ]
    },
    {
      "cell_type": "code",
      "execution_count": 11,
      "metadata": {
        "colab": {
          "base_uri": "https://localhost:8080/",
          "height": 360
        },
        "id": "geZKB9DHu4-Y",
        "outputId": "e645215d-1dc4-483a-eb74-64837ff7a912"
      },
      "outputs": [
        {
          "name": "stdout",
          "output_type": "stream",
          "text": [
            "{'author_id': ['4bahYMkAAAAJ', 'ruUKktgAAAAJ', '9XRvM88AAAAJ'],\n",
            " 'bib': {'abstract': 'Humans can judge from vision alone whether an object is '\n",
            "                     'physically stable or not. Such judgments allow observers '\n",
            "                     'to predict the physical behavior of objects, and hence '\n",
            "                     'to guide their motor actions. We investigated the visual '\n",
            "                     'estimation of physical stability of 3-D objects (shown '\n",
            "                     'in stereoscopically viewed rendered scenes) and how it '\n",
            "                     'relates to visual estimates of their center of mass '\n",
            "                     '(COM). In Experiment 1, observers viewed an object near '\n",
            "                     'the edge of a table and adjusted its tilt to the '\n",
            "                     'perceived critical angle, ie, the tilt angle at which '\n",
            "                     'the object',\n",
            "         'author': ['SA Cholewiak', 'RW Fleming', 'M Singh'],\n",
            "         'pub_year': '2015',\n",
            "         'title': 'Perception of physical stability and center of mass of 3-D '\n",
            "                  'objects',\n",
            "         'venue': 'Journal of vision'},\n",
            " 'citedby_url': '/scholar?cites=15736880631888070187&as_sdt=5,33&sciodt=0,33&hl=en',\n",
            " 'eprint_url': 'https://jov.arvojournals.org/article.aspx?articleID=2213254',\n",
            " 'filled': False,\n",
            " 'gsrank': 1,\n",
            " 'num_citations': 22,\n",
            " 'pub_url': 'https://jov.arvojournals.org/article.aspx?articleID=2213254',\n",
            " 'source': 'PUBLICATION_SEARCH_SNIPPET',\n",
            " 'url_add_sclib': '/citations?hl=en&xsrf=&continue=/scholar%3Fq%3DPerception%2Bof%2Bphysical%2Bstability%2Band%2Bcenter%2Bof%2Bmass%2Bof%2B3D%2Bobjects%26hl%3Den%26as_sdt%3D0,33&citilm=1&update_op=library_add&info=K8ZpoI6hZNoJ&ei=nfjPYerlBIqKmgHR3ZC4Aw&json=',\n",
            " 'url_related_articles': '/scholar?q=related:K8ZpoI6hZNoJ:scholar.google.com/&scioq=Perception+of+physical+stability+and+center+of+mass+of+3D+objects&hl=en&as_sdt=0,33',\n",
            " 'url_scholarbib': '/scholar?q=info:K8ZpoI6hZNoJ:scholar.google.com/&output=cite&scirp=0&hl=en'}\n"
          ]
        }
      ],
      "source": [
        "#test for extract journal name by paper title:\n",
        "search_query = scholarly.search_pubs('Perception of physical stability and center of mass of 3D objects')\n",
        "scholarly.pprint(next(search_query))"
      ]
    },
    {
      "cell_type": "code",
      "execution_count": 12,
      "metadata": {
        "colab": {
          "base_uri": "https://localhost:8080/",
          "height": 380
        },
        "id": "P2493cxy11W8",
        "outputId": "36e8ad01-2131-4c6f-f870-b21aa1a95355"
      },
      "outputs": [
        {
          "name": "stdout",
          "output_type": "stream",
          "text": [
            "1.Alison GOPNIK\n"
          ]
        },
        {
          "name": "stderr",
          "output_type": "stream",
          "text": [
            "__enter__\n",
            "Fetching only the top 20 coauthors\n"
          ]
        },
        {
          "name": "stdout",
          "output_type": "stream",
          "text": [
            "total publication: 379\n",
            "2.Mirella Lapata\n",
            "total publication: 263\n",
            "3.Martin Pelikan\n"
          ]
        },
        {
          "name": "stderr",
          "output_type": "stream",
          "text": [
            "__enter__\n",
            "Fetching only the top 20 coauthors\n"
          ]
        },
        {
          "name": "stdout",
          "output_type": "stream",
          "text": [
            "total publication: 175\n",
            "4.Pieter-Jan Kindermans\n"
          ]
        },
        {
          "name": "stderr",
          "output_type": "stream",
          "text": [
            "__enter__\n",
            "Fetching only the top 20 coauthors\n"
          ]
        },
        {
          "name": "stdout",
          "output_type": "stream",
          "text": [
            "total publication: 59\n",
            "5.Asja Fischer\n"
          ]
        },
        {
          "name": "stderr",
          "output_type": "stream",
          "text": [
            "__enter__\n",
            "Fetching only the top 20 coauthors\n"
          ]
        },
        {
          "name": "stdout",
          "output_type": "stream",
          "text": [
            "total publication: 66\n",
            "6.José A.F.O. Correia\n"
          ]
        },
        {
          "name": "stderr",
          "output_type": "stream",
          "text": [
            "__enter__\n",
            "Fetching only the top 20 coauthors\n"
          ]
        },
        {
          "name": "stdout",
          "output_type": "stream",
          "text": [
            "total publication: 359\n",
            "7.Lars Mescheder\n",
            "total publication: 18\n",
            "8.Rafael C. Carrasco\n"
          ]
        },
        {
          "name": "stderr",
          "output_type": "stream",
          "text": [
            "__enter__\n",
            "Fetching only the top 20 coauthors\n"
          ]
        },
        {
          "name": "stdout",
          "output_type": "stream",
          "text": [
            "total publication: 159\n",
            "9.Alan A Stocker\n"
          ]
        },
        {
          "name": "stderr",
          "output_type": "stream",
          "text": [
            "__enter__\n",
            "Fetching only the top 20 coauthors\n"
          ]
        },
        {
          "name": "stdout",
          "output_type": "stream",
          "text": [
            "total publication: 81\n",
            "10.Béatrice Bérard\n",
            "total publication: 437\n",
            "11.John McCall\n",
            "total publication: 221\n",
            "12.Dr. Piyush Kumar\n",
            "total publication: 202\n",
            "13.Dirk Ostwald\n",
            "total publication: 37\n",
            "14.Rémi Emonet\n"
          ]
        },
        {
          "name": "stderr",
          "output_type": "stream",
          "text": [
            "__enter__\n",
            "Fetching only the top 20 coauthors\n"
          ]
        },
        {
          "name": "stdout",
          "output_type": "stream",
          "text": [
            "total publication: 108\n",
            "15.Frédéric Crevecoeur\n"
          ]
        },
        {
          "name": "stderr",
          "output_type": "stream",
          "text": [
            "__enter__\n",
            "Fetching only the top 20 coauthors\n"
          ]
        },
        {
          "name": "stdout",
          "output_type": "stream",
          "text": [
            "total publication: 55\n",
            "16.Stefan Kiefer\n",
            "total publication: 121\n",
            "17.Ahad Harati\n"
          ]
        },
        {
          "name": "stderr",
          "output_type": "stream",
          "text": [
            "__enter__\n",
            "Fetching only the top 20 coauthors\n"
          ]
        },
        {
          "name": "stdout",
          "output_type": "stream",
          "text": [
            "total publication: 86\n",
            "18.Alexey Pak\n",
            "total publication: 82\n",
            "19.Daan Fierens\n"
          ]
        },
        {
          "name": "stderr",
          "output_type": "stream",
          "text": [
            "__enter__\n",
            "Fetching only the top 20 coauthors\n"
          ]
        },
        {
          "name": "stdout",
          "output_type": "stream",
          "text": [
            "total publication: 53\n",
            "20.Chris Zwilling\n"
          ]
        },
        {
          "name": "stderr",
          "output_type": "stream",
          "text": [
            "__enter__\n",
            "Fetching only the top 20 coauthors\n"
          ]
        },
        {
          "name": "stdout",
          "output_type": "stream",
          "text": [
            "total publication: 40\n",
            "21.Joshua G. A. Cashaback\n",
            "total publication: 24\n",
            "22.Tahira Naseem\n",
            "total publication: 36\n",
            "23.Léa Amandine Deleris\n",
            "total publication: 77\n",
            "24.Catarina Moreira\n"
          ]
        },
        {
          "name": "stderr",
          "output_type": "stream",
          "text": [
            "__enter__\n",
            "Fetching only the top 20 coauthors\n"
          ]
        },
        {
          "name": "stdout",
          "output_type": "stream",
          "text": [
            "total publication: 244\n",
            "25.Filip Korzeniowski\n",
            "total publication: 27\n",
            "26.Venanzio GIANNELLA\n",
            "total publication: 46\n",
            "27.Sebastian Zambal\n",
            "total publication: 29\n",
            "28.Jérémie Bourdon\n",
            "total publication: 83\n",
            "29.Ashok Rajaraman\n",
            "total publication: 14\n",
            "30.Mateusz Maciejewski\n",
            "total publication: 32\n",
            "31.R.B. Lenin\n",
            "total publication: 74\n",
            "32.Diane Bouchacourt\n",
            "total publication: 31\n",
            "33.Alena Suvorova\n",
            "total publication: 93\n",
            "34.Dennis Guck\n",
            "total publication: 26\n",
            "35.Urs Bergmann\n",
            "total publication: 35\n",
            "36.Dave Gomboc\n",
            "total publication: 15\n",
            "37.Cetin Savkli\n",
            "total publication: 40\n",
            "38.Vincent Fortuin\n"
          ]
        },
        {
          "name": "stderr",
          "output_type": "stream",
          "text": [
            "__enter__\n",
            "Fetching only the top 20 coauthors\n"
          ]
        },
        {
          "name": "stdout",
          "output_type": "stream",
          "text": [
            "total publication: 34\n",
            "39.Manuel Santarsiero\n",
            "total publication: 37\n",
            "40.Verica Bakeva\n",
            "total publication: 64\n",
            "41.Pablo León-Villagrá\n",
            "total publication: 17\n",
            "42.Mansour Bagheri\n",
            "total publication: 28\n",
            "43.Young-Min Kim\n",
            "total publication: 440\n",
            "44.Jeffrey Chan\n"
          ]
        },
        {
          "name": "stderr",
          "output_type": "stream",
          "text": [
            "__enter__\n",
            "Fetching only the top 20 coauthors\n"
          ]
        },
        {
          "name": "stdout",
          "output_type": "stream",
          "text": [
            "total publication: 176\n",
            "45.Yang Li\n",
            "total publication: 70\n",
            "46.Rituraj Singh\n",
            "total publication: 2340\n",
            "47.Fabian Schmich\n",
            "total publication: 23\n",
            "48.Giovanni Bacci\n",
            "total publication: 89\n",
            "49.Abby Levenberg\n",
            "total publication: 21\n",
            "50.Stefan Klingelschmitt\n",
            "total publication: 9\n",
            "total publication: 9\n",
            "0\n",
            "1\n",
            "2\n",
            "3\n",
            "4\n",
            "5\n",
            "6\n",
            "7\n",
            "8\n",
            "{'2014 IEEE Intelligent …': 1, '2015 IEEE Intelligent …': 1, '2016 IEEE intelligent …': 1, '2015 IEEE intelligent …': 1, '2015 IEEE 18th International …': 1, 'FAST-zero 2015 …': 1, '2016 IEEE 19th …': 2, 'NA': 1}\n"
          ]
        }
      ],
      "source": [
        "#Q2\n",
        "for i in range(100):\n",
        "\n",
        "    prof_id=profs['scholar_id'][i]\n",
        "    author =scholarly.search_author_id(prof_id)\n",
        "    print(str(i+1)+\".\"+author['name'])\n",
        "    search_query = scholarly.search_author(author['name'])\n",
        "    author = scholarly.fill(next(search_query))\n",
        "    print(\"total publication:\",len(author['publications']))\n",
        "    if i==49:\n",
        "        # scholarly.pprint(author)\n",
        "        # print(author['name'])\n",
        "        search_query = scholarly.search_author(author['name'])\n",
        "        author = scholarly.fill(next(search_query))\n",
        "        print(\"total publication:\",len(author['publications']))\n",
        "        jurnals = {}\n",
        "        for j in range(len(author['publications'])):\n",
        "            print(j)\n",
        "            paper_title=author['publications'][j]['bib']['title']\n",
        "            search_query = scholarly.search_pubs(paper_title)\n",
        "            try:\n",
        "                Journal=next(search_query)['bib']['venue']\n",
        "            except:\n",
        "                print(\"\")\n",
        "            \n",
        "            if Journal in jurnals.keys():\n",
        "                jurnals[Journal] = jurnals[Journal]+1\n",
        "            else:\n",
        "              jurnals[Journal]=1\n",
        "          # print(Journal)\n",
        "\n",
        "        print(jurnals)\n",
        "        break"
      ]
    }
  ],
  "metadata": {
    "accelerator": "GPU",
    "colab": {
      "collapsed_sections": [],
      "name": "googlescholarCrowler.ipynb",
      "provenance": []
    },
    "kernelspec": {
      "display_name": "Python 3",
      "name": "python3"
    },
    "language_info": {
      "codemirror_mode": {
        "name": "ipython",
        "version": 3
      },
      "file_extension": ".py",
      "mimetype": "text/x-python",
      "name": "python",
      "nbconvert_exporter": "python",
      "pygments_lexer": "ipython3",
      "version": "3.8.8"
    }
  },
  "nbformat": 4,
  "nbformat_minor": 0
}
